{
 "cells": [
  {
   "cell_type": "markdown",
   "id": "35f6c272-49cc-4e39-af50-44f63e1a4ef1",
   "metadata": {},
   "source": [
    "Financial Data Analytics"
   ]
  },
  {
   "cell_type": "code",
   "execution_count": 115,
   "id": "65e666ba-c895-404b-8803-43d36b5f0109",
   "metadata": {},
   "outputs": [],
   "source": [
    "# Importing Libraries\n",
    "import pandas as pd\n",
    "import numpy as np\n",
    "import matplotlib.pyplot as plt\n",
    "import seaborn as sns"
   ]
  },
  {
   "cell_type": "code",
   "execution_count": 117,
   "id": "830f227b-7b77-4897-a669-d0b341e18275",
   "metadata": {},
   "outputs": [],
   "source": [
    "# Loading the dataset\n",
    "fa_data = pd.read_csv('Financial Analytics data.csv')"
   ]
  },
  {
   "cell_type": "code",
   "execution_count": 119,
   "id": "bb40ddff-9ee3-4546-9a95-3bc24247016f",
   "metadata": {},
   "outputs": [
    {
     "data": {
      "text/html": [
       "<div>\n",
       "<style scoped>\n",
       "    .dataframe tbody tr th:only-of-type {\n",
       "        vertical-align: middle;\n",
       "    }\n",
       "\n",
       "    .dataframe tbody tr th {\n",
       "        vertical-align: top;\n",
       "    }\n",
       "\n",
       "    .dataframe thead th {\n",
       "        text-align: right;\n",
       "    }\n",
       "</style>\n",
       "<table border=\"1\" class=\"dataframe\">\n",
       "  <thead>\n",
       "    <tr style=\"text-align: right;\">\n",
       "      <th></th>\n",
       "      <th>S.No.</th>\n",
       "      <th>Name</th>\n",
       "      <th>Mar Cap - Crore</th>\n",
       "      <th>Sales Qtr - Crore</th>\n",
       "    </tr>\n",
       "  </thead>\n",
       "  <tbody>\n",
       "    <tr>\n",
       "      <th>0</th>\n",
       "      <td>1</td>\n",
       "      <td>Reliance Inds.</td>\n",
       "      <td>583436.72</td>\n",
       "      <td>99810.00</td>\n",
       "    </tr>\n",
       "    <tr>\n",
       "      <th>1</th>\n",
       "      <td>2</td>\n",
       "      <td>TCS</td>\n",
       "      <td>563709.84</td>\n",
       "      <td>30904.00</td>\n",
       "    </tr>\n",
       "    <tr>\n",
       "      <th>2</th>\n",
       "      <td>3</td>\n",
       "      <td>HDFC Bank</td>\n",
       "      <td>482953.59</td>\n",
       "      <td>20581.27</td>\n",
       "    </tr>\n",
       "    <tr>\n",
       "      <th>3</th>\n",
       "      <td>4</td>\n",
       "      <td>ITC</td>\n",
       "      <td>320985.27</td>\n",
       "      <td>9772.02</td>\n",
       "    </tr>\n",
       "    <tr>\n",
       "      <th>4</th>\n",
       "      <td>5</td>\n",
       "      <td>H D F C</td>\n",
       "      <td>289497.37</td>\n",
       "      <td>16840.51</td>\n",
       "    </tr>\n",
       "  </tbody>\n",
       "</table>\n",
       "</div>"
      ],
      "text/plain": [
       "   S.No.            Name  Mar Cap - Crore  Sales Qtr - Crore\n",
       "0      1  Reliance Inds.        583436.72           99810.00\n",
       "1      2             TCS        563709.84           30904.00\n",
       "2      3       HDFC Bank        482953.59           20581.27\n",
       "3      4             ITC        320985.27            9772.02\n",
       "4      5         H D F C        289497.37           16840.51"
      ]
     },
     "execution_count": 119,
     "metadata": {},
     "output_type": "execute_result"
    }
   ],
   "source": [
    "# Display the first five rows of the data\n",
    "fa_data.head()"
   ]
  },
  {
   "cell_type": "code",
   "execution_count": 121,
   "id": "9840d2ce-2547-4685-9607-896a46fca2a7",
   "metadata": {},
   "outputs": [
    {
     "data": {
      "text/plain": [
       "(488, 4)"
      ]
     },
     "execution_count": 121,
     "metadata": {},
     "output_type": "execute_result"
    }
   ],
   "source": [
    "fa_data.shape"
   ]
  },
  {
   "cell_type": "markdown",
   "id": "8e4a264d-c3d5-44f5-93f3-c3c85c2c4750",
   "metadata": {},
   "source": [
    "Data Cleaning"
   ]
  },
  {
   "cell_type": "code",
   "execution_count": 124,
   "id": "bd0e7e20-8b9c-4129-9eed-0c7b30036387",
   "metadata": {},
   "outputs": [
    {
     "data": {
      "text/plain": [
       "S.No.                 0\n",
       "Name                  0\n",
       "Mar Cap - Crore       9\n",
       "Sales Qtr - Crore    29\n",
       "dtype: int64"
      ]
     },
     "execution_count": 124,
     "metadata": {},
     "output_type": "execute_result"
    }
   ],
   "source": [
    "# Checking Missing Values\n",
    "fa_data.isna().sum()"
   ]
  },
  {
   "cell_type": "code",
   "execution_count": 139,
   "id": "f593299f-b70e-458e-b1b0-b815a436a7ad",
   "metadata": {},
   "outputs": [
    {
     "data": {
      "text/plain": [
       "(488, 4)"
      ]
     },
     "execution_count": 139,
     "metadata": {},
     "output_type": "execute_result"
    }
   ],
   "source": [
    "# Dropping rows with missing values\n",
    "fa_data.dropna()\n",
    "\n",
    "#New Shape of dataset\n",
    "fa_data.shape"
   ]
  },
  {
   "cell_type": "markdown",
   "id": "12d4155c-daf0-4b42-9b07-bdc1619a0586",
   "metadata": {},
   "source": [
    "There are no missing or empty rows"
   ]
  },
  {
   "cell_type": "markdown",
   "id": "4763012d-a8ac-49cb-89fd-cb0d32e9eb01",
   "metadata": {},
   "source": [
    "Data Analysis"
   ]
  },
  {
   "cell_type": "code",
   "execution_count": 148,
   "id": "1f5b36e6-11bd-4cdb-9095-8ef31824cae6",
   "metadata": {},
   "outputs": [
    {
     "name": "stdout",
     "output_type": "stream",
     "text": [
      "<class 'pandas.core.frame.DataFrame'>\n",
      "RangeIndex: 488 entries, 0 to 487\n",
      "Data columns (total 4 columns):\n",
      " #   Column             Non-Null Count  Dtype  \n",
      "---  ------             --------------  -----  \n",
      " 0   S.No.              488 non-null    int64  \n",
      " 1   Name               488 non-null    object \n",
      " 2   Mar Cap - Crore    479 non-null    float64\n",
      " 3   Sales Qtr - Crore  459 non-null    float64\n",
      "dtypes: float64(2), int64(1), object(1)\n",
      "memory usage: 15.4+ KB\n"
     ]
    }
   ],
   "source": [
    "# Information of the data\n",
    "fa_data.info()"
   ]
  },
  {
   "cell_type": "code",
   "execution_count": 152,
   "id": "bae58628-3e08-40f7-9d17-97ed03a415ee",
   "metadata": {},
   "outputs": [
    {
     "data": {
      "text/html": [
       "<div>\n",
       "<style scoped>\n",
       "    .dataframe tbody tr th:only-of-type {\n",
       "        vertical-align: middle;\n",
       "    }\n",
       "\n",
       "    .dataframe tbody tr th {\n",
       "        vertical-align: top;\n",
       "    }\n",
       "\n",
       "    .dataframe thead th {\n",
       "        text-align: right;\n",
       "    }\n",
       "</style>\n",
       "<table border=\"1\" class=\"dataframe\">\n",
       "  <thead>\n",
       "    <tr style=\"text-align: right;\">\n",
       "      <th></th>\n",
       "      <th>S.No.</th>\n",
       "      <th>Mar Cap - Crore</th>\n",
       "      <th>Sales Qtr - Crore</th>\n",
       "    </tr>\n",
       "  </thead>\n",
       "  <tbody>\n",
       "    <tr>\n",
       "      <th>count</th>\n",
       "      <td>488.000000</td>\n",
       "      <td>479.000000</td>\n",
       "      <td>459.000000</td>\n",
       "    </tr>\n",
       "    <tr>\n",
       "      <th>mean</th>\n",
       "      <td>251.508197</td>\n",
       "      <td>28043.857119</td>\n",
       "      <td>3807.789412</td>\n",
       "    </tr>\n",
       "    <tr>\n",
       "      <th>std</th>\n",
       "      <td>145.884078</td>\n",
       "      <td>59464.615831</td>\n",
       "      <td>9989.449987</td>\n",
       "    </tr>\n",
       "    <tr>\n",
       "      <th>min</th>\n",
       "      <td>1.000000</td>\n",
       "      <td>3017.070000</td>\n",
       "      <td>0.000000</td>\n",
       "    </tr>\n",
       "    <tr>\n",
       "      <th>25%</th>\n",
       "      <td>122.750000</td>\n",
       "      <td>4843.575000</td>\n",
       "      <td>534.910000</td>\n",
       "    </tr>\n",
       "    <tr>\n",
       "      <th>50%</th>\n",
       "      <td>252.500000</td>\n",
       "      <td>9885.050000</td>\n",
       "      <td>1137.170000</td>\n",
       "    </tr>\n",
       "    <tr>\n",
       "      <th>75%</th>\n",
       "      <td>378.250000</td>\n",
       "      <td>23549.900000</td>\n",
       "      <td>2730.195000</td>\n",
       "    </tr>\n",
       "    <tr>\n",
       "      <th>max</th>\n",
       "      <td>500.000000</td>\n",
       "      <td>583436.720000</td>\n",
       "      <td>110666.930000</td>\n",
       "    </tr>\n",
       "  </tbody>\n",
       "</table>\n",
       "</div>"
      ],
      "text/plain": [
       "            S.No.  Mar Cap - Crore  Sales Qtr - Crore\n",
       "count  488.000000       479.000000         459.000000\n",
       "mean   251.508197     28043.857119        3807.789412\n",
       "std    145.884078     59464.615831        9989.449987\n",
       "min      1.000000      3017.070000           0.000000\n",
       "25%    122.750000      4843.575000         534.910000\n",
       "50%    252.500000      9885.050000        1137.170000\n",
       "75%    378.250000     23549.900000        2730.195000\n",
       "max    500.000000    583436.720000      110666.930000"
      ]
     },
     "execution_count": 152,
     "metadata": {},
     "output_type": "execute_result"
    }
   ],
   "source": [
    "# Description of the dataset\n",
    "fa_data.describe()"
   ]
  },
  {
   "cell_type": "code",
   "execution_count": 165,
   "id": "d7e9222d-26a1-4fe1-a4ef-d386442a7a5f",
   "metadata": {},
   "outputs": [
    {
     "name": "stdout",
     "output_type": "stream",
     "text": [
      "28043.86\n"
     ]
    }
   ],
   "source": [
    "# Mean Market Captialization\n",
    "mean_mar_cap = fa_data['Mar Cap - Crore'].mean()\n",
    "print(f\"{mean_mar_cap:.2f}\")"
   ]
  },
  {
   "cell_type": "code",
   "execution_count": 169,
   "id": "97903b10-3fde-4769-b89c-14d96b1e0eb1",
   "metadata": {},
   "outputs": [
    {
     "name": "stdout",
     "output_type": "stream",
     "text": [
      "3807.79\n"
     ]
    }
   ],
   "source": [
    "# Mean Quarterly Sales\n",
    "mean_sales_qtr = fa_data['Sales Qtr - Crore'].mean()\n",
    "print(f\"{mean_sales_qtr:.2f}\")"
   ]
  },
  {
   "cell_type": "code",
   "execution_count": 214,
   "id": "8c91f852-c144-48bb-815d-04ec248ca031",
   "metadata": {},
   "outputs": [
    {
     "data": {
      "text/html": [
       "<div>\n",
       "<style scoped>\n",
       "    .dataframe tbody tr th:only-of-type {\n",
       "        vertical-align: middle;\n",
       "    }\n",
       "\n",
       "    .dataframe tbody tr th {\n",
       "        vertical-align: top;\n",
       "    }\n",
       "\n",
       "    .dataframe thead th {\n",
       "        text-align: right;\n",
       "    }\n",
       "</style>\n",
       "<table border=\"1\" class=\"dataframe\">\n",
       "  <thead>\n",
       "    <tr style=\"text-align: right;\">\n",
       "      <th></th>\n",
       "      <th>S.No.</th>\n",
       "      <th>Name</th>\n",
       "      <th>Mar Cap - Crore</th>\n",
       "      <th>Sales Qtr - Crore</th>\n",
       "    </tr>\n",
       "  </thead>\n",
       "  <tbody>\n",
       "    <tr>\n",
       "      <th>0</th>\n",
       "      <td>1</td>\n",
       "      <td>Reliance Inds.</td>\n",
       "      <td>583436.72</td>\n",
       "      <td>99810.00</td>\n",
       "    </tr>\n",
       "    <tr>\n",
       "      <th>1</th>\n",
       "      <td>2</td>\n",
       "      <td>TCS</td>\n",
       "      <td>563709.84</td>\n",
       "      <td>30904.00</td>\n",
       "    </tr>\n",
       "    <tr>\n",
       "      <th>2</th>\n",
       "      <td>3</td>\n",
       "      <td>HDFC Bank</td>\n",
       "      <td>482953.59</td>\n",
       "      <td>20581.27</td>\n",
       "    </tr>\n",
       "    <tr>\n",
       "      <th>3</th>\n",
       "      <td>4</td>\n",
       "      <td>ITC</td>\n",
       "      <td>320985.27</td>\n",
       "      <td>9772.02</td>\n",
       "    </tr>\n",
       "    <tr>\n",
       "      <th>4</th>\n",
       "      <td>5</td>\n",
       "      <td>H D F C</td>\n",
       "      <td>289497.37</td>\n",
       "      <td>16840.51</td>\n",
       "    </tr>\n",
       "    <tr>\n",
       "      <th>5</th>\n",
       "      <td>6</td>\n",
       "      <td>Hind. Unilever</td>\n",
       "      <td>288265.26</td>\n",
       "      <td>8590.00</td>\n",
       "    </tr>\n",
       "    <tr>\n",
       "      <th>6</th>\n",
       "      <td>7</td>\n",
       "      <td>Maruti Suzuki</td>\n",
       "      <td>263493.81</td>\n",
       "      <td>19283.20</td>\n",
       "    </tr>\n",
       "    <tr>\n",
       "      <th>7</th>\n",
       "      <td>8</td>\n",
       "      <td>Infosys</td>\n",
       "      <td>248320.35</td>\n",
       "      <td>17794.00</td>\n",
       "    </tr>\n",
       "    <tr>\n",
       "      <th>8</th>\n",
       "      <td>9</td>\n",
       "      <td>O N G C</td>\n",
       "      <td>239981.50</td>\n",
       "      <td>22995.88</td>\n",
       "    </tr>\n",
       "    <tr>\n",
       "      <th>9</th>\n",
       "      <td>10</td>\n",
       "      <td>St Bk of India</td>\n",
       "      <td>232763.33</td>\n",
       "      <td>57014.08</td>\n",
       "    </tr>\n",
       "  </tbody>\n",
       "</table>\n",
       "</div>"
      ],
      "text/plain": [
       "   S.No.            Name  Mar Cap - Crore  Sales Qtr - Crore\n",
       "0      1  Reliance Inds.        583436.72           99810.00\n",
       "1      2             TCS        563709.84           30904.00\n",
       "2      3       HDFC Bank        482953.59           20581.27\n",
       "3      4             ITC        320985.27            9772.02\n",
       "4      5         H D F C        289497.37           16840.51\n",
       "5      6  Hind. Unilever        288265.26            8590.00\n",
       "6      7   Maruti Suzuki        263493.81           19283.20\n",
       "7      8         Infosys        248320.35           17794.00\n",
       "8      9         O N G C        239981.50           22995.88\n",
       "9     10  St Bk of India        232763.33           57014.08"
      ]
     },
     "execution_count": 214,
     "metadata": {},
     "output_type": "execute_result"
    }
   ],
   "source": [
    "# Top Companies by Market Capitalization\n",
    "top_market_cap_companies = fa_data.nlargest(10, 'Mar Cap - Crore')\n",
    "top_market_cap_companies"
   ]
  },
  {
   "cell_type": "code",
   "execution_count": 204,
   "id": "d609de0d-075d-438e-8d4a-ccdace5df94f",
   "metadata": {},
   "outputs": [
    {
     "name": "stdout",
     "output_type": "stream",
     "text": [
      "0.62\n"
     ]
    }
   ],
   "source": [
    "# Correlation between Market Cap and Quarterly Sales\n",
    "correlation_market_cap_sales = fa_data['Mar Cap - Crore'].corr(fa_data['Sales Qtr - Crore'])\n",
    "print(f\"{correlation_market_cap_sales:.2f}\")"
   ]
  },
  {
   "cell_type": "markdown",
   "id": "332f7abe-1220-41ff-ada3-342c6d257afa",
   "metadata": {},
   "source": [
    "Data Visualizations"
   ]
  },
  {
   "cell_type": "code",
   "execution_count": 209,
   "id": "cc8ff5bc-8e28-445a-97c5-015ffeb2134c",
   "metadata": {},
   "outputs": [
    {
     "data": {
      "image/png": "[encoded data removed]",
      "text/plain": [
       "<Figure size 800x500 with 1 Axes>"
      ]
     },
     "metadata": {},
     "output_type": "display_data"
    }
   ],
   "source": [
    "# Scatter Plot: Market Cap vs. Quarterly Sales\n",
    "\n",
    "plt.figure(figsize=(8, 5))\n",
    "sns.scatterplot(x='Mar Cap - Crore', y='Sales Qtr - Crore', data=fa_data, color='purple')\n",
    "plt.title('Market Cap vs. Quarterly Sales')\n",
    "plt.xlabel('Market Cap (Crore)')\n",
    "plt.ylabel('Quarterly Sales (Crore)')\n",
    "plt.show()"
   ]
  },
  {
   "cell_type": "code",
   "execution_count": 211,
   "id": "bdc27ded-36e0-4cc3-892a-001b29f400c7",
   "metadata": {},
   "outputs": [
    {
     "data": {
      "image/png": "[encoded data removed]",
      "text/plain": [
       "<Figure size 1000x800 with 2 Axes>"
      ]
     },
     "metadata": {},
     "output_type": "display_data"
    }
   ],
   "source": [
    "# Correlation Matrix Heatmap\n",
    "\n",
    "num_fa_data = fa_data.select_dtypes(include=[float, int])\n",
    "correlation_matrix = num_fa_data.corr()\n",
    "\n",
    "plt.figure(figsize=(10, 8))\n",
    "sns.heatmap(correlation_matrix, annot=True, cmap='coolwarm', fmt='.2f')\n",
    "plt.title('Correlation Matrix')\n",
    "plt.show()"
   ]
  }
 ],
 "metadata": {
  "kernelspec": {
   "display_name": "Python 3 (ipykernel)",
   "language": "python",
   "name": "python3"
  },
  "language_info": {
   "codemirror_mode": {
    "name": "ipython",
    "version": 3
   },
   "file_extension": ".py",
   "mimetype": "text/x-python",
   "name": "python",
   "nbconvert_exporter": "python",
   "pygments_lexer": "ipython3",
   "version": "3.12.4"
  }
 },
 "nbformat": 4,
 "nbformat_minor": 5
}
